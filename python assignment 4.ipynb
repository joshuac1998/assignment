{
 "cells": [
  {
   "cell_type": "markdown",
   "metadata": {},
   "source": [
    "# solution 1.1\n"
   ]
  },
  {
   "cell_type": "code",
   "execution_count": 6,
   "metadata": {},
   "outputs": [
    {
     "name": "stdout",
     "output_type": "stream",
     "text": [
      "enter side a: 7\n",
      "enter side b: 8\n",
      "enter side c: 9\n",
      "The area of the trainagle is : 26.832815729997478\n"
     ]
    }
   ],
   "source": [
    "import math\n",
    "class Triangle:\n",
    "    def __init__(self):\n",
    "        self.a=float(input(\"enter side a: \"))\n",
    "        self.b=float(input(\"enter side b: \"))\n",
    "        self.c=float(input(\"enter side c: \"))\n",
    "class Area(Triangle):\n",
    "    def find_area(self):\n",
    "        s = (self.a + self.b + self.c) / 2\n",
    "        area = (s * (s - self.a)*(s - self.b)*(s - self.c)) ** 0.5\n",
    "        print(\"The area of the trainagle is : \"+str(area))\n",
    "a=Area()\n",
    "a.find_area()"
   ]
  },
  {
   "cell_type": "markdown",
   "metadata": {},
   "source": [
    " # solution 1.2"
   ]
  },
  {
   "cell_type": "code",
   "execution_count": 8,
   "metadata": {},
   "outputs": [
    {
     "name": "stdout",
     "output_type": "stream",
     "text": [
      "['machine learning']\n"
     ]
    }
   ],
   "source": [
    "def filter_long_words(li,n):\n",
    "    temp=[]\n",
    "    for ele in li:\n",
    "        if len(ele)>n:\n",
    "            temp.append(ele)\n",
    "    print(temp)\n",
    "li=[\"ineuron\",\"data science\",\"machine learning\",\"deep learning\",\"computer vision\"]\n",
    "filter_long_words(li,15)"
   ]
  },
  {
   "cell_type": "markdown",
   "metadata": {},
   "source": [
    "# solution 2.1"
   ]
  },
  {
   "cell_type": "code",
   "execution_count": 10,
   "metadata": {},
   "outputs": [
    {
     "name": "stdout",
     "output_type": "stream",
     "text": [
      "[2, 3, 4]\n"
     ]
    }
   ],
   "source": [
    "def func(ele):\n",
    "    return len(ele)\n",
    "li=[\"ab\",\"cde\",\"erty\"]\n",
    "result=map(func,li)\n",
    "print(list(result))    "
   ]
  },
  {
   "cell_type": "markdown",
   "metadata": {},
   "source": [
    "# solution 2.2"
   ]
  },
  {
   "cell_type": "code",
   "execution_count": 5,
   "metadata": {},
   "outputs": [
    {
     "name": "stdout",
     "output_type": "stream",
     "text": [
      "enter a character :a\n"
     ]
    },
    {
     "data": {
      "text/plain": [
       "True"
      ]
     },
     "execution_count": 5,
     "metadata": {},
     "output_type": "execute_result"
    }
   ],
   "source": [
    "def check_vowel(word):\n",
    "    temp=[\"a\",\"e\",\"i\",\"o\",\"u\"]\n",
    "    if word in temp:\n",
    "          return True\n",
    "    else:\n",
    "          return False\n",
    "word=input(\"enter a character :\")\n",
    "check_vowel(word)"
   ]
  },
  {
   "cell_type": "code",
   "execution_count": null,
   "metadata": {},
   "outputs": [],
   "source": []
  }
 ],
 "metadata": {
  "kernelspec": {
   "display_name": "Python 3",
   "language": "python",
   "name": "python3"
  },
  "language_info": {
   "codemirror_mode": {
    "name": "ipython",
    "version": 3
   },
   "file_extension": ".py",
   "mimetype": "text/x-python",
   "name": "python",
   "nbconvert_exporter": "python",
   "pygments_lexer": "ipython3",
   "version": "3.8.3"
  }
 },
 "nbformat": 4,
 "nbformat_minor": 4
}
